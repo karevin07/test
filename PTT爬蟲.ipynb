{
 "cells": [
  {
   "cell_type": "code",
   "execution_count": null,
   "metadata": {
    "collapsed": true
   },
   "outputs": [],
   "source": [
    "import requests\n",
    "import json\n",
    "import re\n",
    "import csv\n",
    "from bs4 import BeautifulSoup\n",
    "import time\n",
    "import jieba\n",
    "import os\n",
    "import pandas as pd # 引用套件並縮寫為 pd  \n",
    "\n",
    "DATA_PATH = os.path.normpath(os.path.join(os.getcwd(), 'PTT_DATA'))\n",
    "url = 'https://www.ptt.cc/bbs/movie/index{}.html'\n",
    "\n",
    "filelist = []"
   ]
  },
  {
   "cell_type": "code",
   "execution_count": null,
   "metadata": {
    "collapsed": true
   },
   "outputs": [],
   "source": [
    "import threading\n",
    "import queue\n",
    "page = queue.Queue() #建立queue物件\n",
    "URL_TEMPLATE = \"https://www.ptt.cc/bbs/movie/index{}.html\""
   ]
  },
  {
   "cell_type": "code",
   "execution_count": null,
   "metadata": {
    "collapsed": true
   },
   "outputs": [],
   "source": [
    "class Do_page(threading.Thread): # 此為python繼承語法\n",
    "\n",
    "    def __init__(self, name): #constructor 接受 name 參數\n",
    "        threading.Thread.__init__(self) # initialize super class\n",
    "        self.name = name # 每條Do_page的名子\n",
    "\n",
    "\n",
    "    def run(self):# thread啟動後執行函數\n",
    "        while page.empty() is False:  #檢查titles queue不為空的話，獲取URL後do_page\n",
    "            current_url = page.get()\n",
    "            do_page(current_url)"
   ]
  },
  {
   "cell_type": "code",
   "execution_count": null,
   "metadata": {
    "collapsed": true
   },
   "outputs": [],
   "source": [
    "def get_total_page_cnt():\n",
    "    URL = \"https://www.ptt.cc/bbs/movie/index.html\"\n",
    "    resp = requests.get(URL)\n",
    "\n",
    "# 這個符號\n",
    "# ‹-> &lsaquo;\n",
    "    total_page_cnt = int(re.findall('href=\"/bbs/movie/index(\\d+).html\">&lsaquo; 上頁', resp.text)[0]) + 1\n",
    "\n",
    "    return total_page_cnt "
   ]
  },
  {
   "cell_type": "code",
   "execution_count": null,
   "metadata": {
    "collapsed": true
   },
   "outputs": [],
   "source": [
    "def get_list_page(url):\n",
    "    HOST = \"https://www.ptt.cc\"\n",
    "    resp = requests.get(url)\n",
    "    links = re.findall('<a href=\"(/bbs/movie/M.+\\.html)\">.負雷..+</a>', resp.text)\n",
    "    detail_page_links = [HOST + link for link in links]\n",
    "    return detail_page_links\n",
    "def dump_page(url):\n",
    "    filename = \"_\".join(url.split('/')[-1].split('.')[:-1]) + '.html'\n",
    "    filelist.append(filename)\n",
    "    resp = requests.get(url)\n",
    "    with open(DATA_PATH + '\\\\' + filename, 'w', encoding = 'utf8') as f:\n",
    "        f.write(resp.text)"
   ]
  },
  {
   "cell_type": "code",
   "execution_count": null,
   "metadata": {
    "collapsed": true
   },
   "outputs": [],
   "source": [
    "def do_page(url):\n",
    "    for link in get_list_page(url):\n",
    "        dump_page(link)"
   ]
  },
  {
   "cell_type": "code",
   "execution_count": null,
   "metadata": {
    "collapsed": true
   },
   "outputs": [],
   "source": [
    "def main():\n",
    "    for pg in range(get_total_page_cnt(),(get_total_page_cnt()-get_total_page_cnt()),-1):\n",
    "        url = URL_TEMPLATE.format(pg)\n",
    "        page.put(url) #加入url，    \n",
    "    threads = []\n",
    "    for j in range(4):\n",
    "        c = Do_page('c' + str(j)) # 建立Do_page物件\n",
    "\n",
    "        c.start() # 啟動thread\n",
    "\n",
    "        threads.append(c)\n",
    "\n",
    "    for thread in threads:\n",
    "        thread.join() # 主線程必須等到所有threads執行完畢才繼續執行\n",
    "\n",
    "        \n",
    "if __name__ == '__main__':\n",
    "    tStart = time.time() # 起始時間\n",
    "\n",
    "    print('共爬'+str(get_total_page_cnt())+'頁')\n",
    "    main()\n",
    "    tEnd = time.time() # 結束時間\n",
    "\n",
    "    print('共'+str(len(filelist))+'筆') # 總共抓取標題數\n",
    "\n",
    "    print(\"花費\",(tEnd - tStart),\"秒\") # 完成花費時間"
   ]
  }
 ],
 "metadata": {
  "kernelspec": {
   "display_name": "Python 3",
   "language": "python",
   "name": "python3"
  },
  "language_info": {
   "codemirror_mode": {
    "name": "ipython",
    "version": 3
   },
   "file_extension": ".py",
   "mimetype": "text/x-python",
   "name": "python",
   "nbconvert_exporter": "python",
   "pygments_lexer": "ipython3",
   "version": "3.6.3"
  }
 },
 "nbformat": 4,
 "nbformat_minor": 2
}
