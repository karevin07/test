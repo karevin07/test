{
 "cells": [
  {
   "cell_type": "code",
   "execution_count": 1,
   "metadata": {
    "collapsed": true
   },
   "outputs": [],
   "source": [
    "import requests\n",
    "from bs4 import BeautifulSoup\n",
    "import json\n",
    "import pandas as pd\n",
    "\n",
    "url = \"https://movie.douban.com/chart\"\n",
    "data = ''\n",
    "headers = json.loads(r'''{\n",
    "    \"Accept\": \"text/html,application/xhtml+xml,application/xml;q=0.9,image/webp,*/*;q=0.8\",\n",
    "    \"Accept-Encoding\": \"gzip, deflate, sdch, br\",\n",
    "    \"Accept-Language\": \"zh-TW,zh;q=0.8,en-US;q=0.6,en;q=0.4\",\n",
    "    \"Cache-Control\": \"max-age=0\",\n",
    "    \"Connection\": \"keep-alive\",\n",
    "    \"Cookie\": \"bid=cxACc64ho3k; ll=\\\"108089\\\"; __yadk_uid=4eX2KUEFh3tO7AClRBweiNY3nO87Djp9; _pk_ref.100001.4cf6=%5B%22%22%2C%22%22%2C1517800207%2C%22https%3A%2F%2Fwww.google.com.tw%2F%22%5D; _vwo_uuid_v2=D9FE7EE8AB34F94388870C0DEC2463771|1b65a32efcfec3d9db35f12c3b180457; __utma=30149280.670259929.1517577237.1517577237.1517800207.2; __utmb=30149280.0.10.1517800207; __utmc=30149280; __utmz=30149280.1517800207.2.2.utmcsr=google|utmccn=(organic)|utmcmd=organic|utmctr=(not%20provided); __utma=223695111.1873077604.1517577245.1517577245.1517800207.2; __utmb=223695111.0.10.1517800207; __utmc=223695111; __utmz=223695111.1517800207.2.2.utmcsr=google|utmccn=(organic)|utmcmd=organic|utmctr=(not%20provided); _pk_id.100001.4cf6=b41ee270bd608d82.1517577245.2.1517800213.1517577337.; _pk_ses.100001.4cf6=*\",\n",
    "    \"Host\": \"movie.douban.com\",\n",
    "    \"Referer\": \"https://movie.douban.com/\",\n",
    "    \"Upgrade-Insecure-Requests\": \"1\",\n",
    "    \"User-Agent\": \"Mozilla/5.0 (X11; Linux x86_64) AppleWebKit/537.36 (KHTML, like Gecko) Chrome/57.0.2987.133 Safari/537.36\"\n",
    "}''')\n",
    "\n",
    "resp = requests.get(url, data=data, headers=headers)\n",
    "\n",
    "soup = BeautifulSoup(resp.text, 'lxml')"
   ]
  },
  {
   "cell_type": "code",
   "execution_count": 2,
   "metadata": {
    "collapsed": true
   },
   "outputs": [],
   "source": [
    "movie_rank = pd.DataFrame(columns = ['片名','評分'])\n",
    "movie_m = []\n",
    "movie_p = []"
   ]
  },
  {
   "cell_type": "code",
   "execution_count": 3,
   "metadata": {
    "collapsed": true
   },
   "outputs": [],
   "source": [
    "for movie in soup.select(\".box_chart\"):\n",
    "    m = movie.select('a')[0].text.strip()\n",
    "    movie_m.append(m)\n",
    "for point in range(len(soup.select('.rating_nums'))): \n",
    "    p = soup.select('.rating_nums')[point].text\n",
    "    movie_p.append(p)"
   ]
  },
  {
   "cell_type": "code",
   "execution_count": 4,
   "metadata": {
    "collapsed": true
   },
   "outputs": [],
   "source": [
    "movie_rank['片名'] = movie_m\n",
    "movie_rank['評分'] = movie_p"
   ]
  },
  {
   "cell_type": "code",
   "execution_count": 5,
   "metadata": {},
   "outputs": [
    {
     "data": {
      "text/html": [
       "<div>\n",
       "<style>\n",
       "    .dataframe thead tr:only-child th {\n",
       "        text-align: right;\n",
       "    }\n",
       "\n",
       "    .dataframe thead th {\n",
       "        text-align: left;\n",
       "    }\n",
       "\n",
       "    .dataframe tbody tr th {\n",
       "        vertical-align: top;\n",
       "    }\n",
       "</style>\n",
       "<table border=\"1\" class=\"dataframe\">\n",
       "  <thead>\n",
       "    <tr style=\"text-align: right;\">\n",
       "      <th></th>\n",
       "      <th>片名</th>\n",
       "      <th>評分</th>\n",
       "    </tr>\n",
       "  </thead>\n",
       "  <tbody>\n",
       "    <tr>\n",
       "      <th>0</th>\n",
       "      <td>勇敢者游戏：决战丛林</td>\n",
       "      <td>7.6</td>\n",
       "    </tr>\n",
       "    <tr>\n",
       "      <th>1</th>\n",
       "      <td>移动迷宫3：死亡解药</td>\n",
       "      <td>8.1</td>\n",
       "    </tr>\n",
       "    <tr>\n",
       "      <th>2</th>\n",
       "      <td>温彻斯特</td>\n",
       "      <td>8.0</td>\n",
       "    </tr>\n",
       "    <tr>\n",
       "      <th>3</th>\n",
       "      <td>马戏之王</td>\n",
       "      <td>4.5</td>\n",
       "    </tr>\n",
       "    <tr>\n",
       "      <th>4</th>\n",
       "      <td>敌对分子</td>\n",
       "      <td>9.0</td>\n",
       "    </tr>\n",
       "    <tr>\n",
       "      <th>5</th>\n",
       "      <td>华盛顿邮报</td>\n",
       "      <td>7.0</td>\n",
       "    </tr>\n",
       "    <tr>\n",
       "      <th>6</th>\n",
       "      <td>12勇士</td>\n",
       "      <td>8.1</td>\n",
       "    </tr>\n",
       "    <tr>\n",
       "      <th>7</th>\n",
       "      <td>贼巢</td>\n",
       "      <td>7.0</td>\n",
       "    </tr>\n",
       "    <tr>\n",
       "      <th>8</th>\n",
       "      <td>水形物语</td>\n",
       "      <td>8.4</td>\n",
       "    </tr>\n",
       "    <tr>\n",
       "      <th>9</th>\n",
       "      <td>帕丁顿熊2</td>\n",
       "      <td>8.3</td>\n",
       "    </tr>\n",
       "  </tbody>\n",
       "</table>\n",
       "</div>"
      ],
      "text/plain": [
       "           片名   評分\n",
       "0  勇敢者游戏：决战丛林  7.6\n",
       "1  移动迷宫3：死亡解药  8.1\n",
       "2        温彻斯特  8.0\n",
       "3        马戏之王  4.5\n",
       "4        敌对分子  9.0\n",
       "5       华盛顿邮报  7.0\n",
       "6        12勇士  8.1\n",
       "7          贼巢  7.0\n",
       "8        水形物语  8.4\n",
       "9       帕丁顿熊2  8.3"
      ]
     },
     "execution_count": 5,
     "metadata": {},
     "output_type": "execute_result"
    }
   ],
   "source": [
    "movie_rank"
   ]
  },
  {
   "cell_type": "code",
   "execution_count": null,
   "metadata": {
    "collapsed": true
   },
   "outputs": [],
   "source": []
  }
 ],
 "metadata": {
  "kernelspec": {
   "display_name": "Python 3",
   "language": "python",
   "name": "python3"
  },
  "language_info": {
   "codemirror_mode": {
    "name": "ipython",
    "version": 3
   },
   "file_extension": ".py",
   "mimetype": "text/x-python",
   "name": "python",
   "nbconvert_exporter": "python",
   "pygments_lexer": "ipython3",
   "version": "3.6.3"
  }
 },
 "nbformat": 4,
 "nbformat_minor": 2
}
