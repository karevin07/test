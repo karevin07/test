{
 "cells": [
  {
   "cell_type": "code",
   "execution_count": 6,
   "metadata": {
    "scrolled": true
   },
   "outputs": [
    {
     "data": {
      "text/plain": [
       "['107/1/30',\n",
       " '第107000009期',\n",
       " '開獎結果開出順序大小順序特別號31',\n",
       " '07',\n",
       " '15',\n",
       " '23',\n",
       " '36',\n",
       " '08',\n",
       " '07',\n",
       " '08',\n",
       " '15',\n",
       " '23',\n",
       " '31',\n",
       " '36',\n",
       " '30']"
      ]
     },
     "execution_count": 6,
     "metadata": {},
     "output_type": "execute_result"
    }
   ],
   "source": [
    "import requests\n",
    "from bs4 import BeautifulSoup\n",
    "\n",
    "url=\"http://www.taiwanlottery.com.tw\"\n",
    "html=requests.get(url)\n",
    "sp=BeautifulSoup(html.text, 'html.parser') #解析原始碼\n",
    "\n",
    "data=sp.find_all('div',{'class':'contents_box02'})\n",
    "\n",
    "\"\"\"for d in range(len(data)):\n",
    "    number = data[d].text\n",
    "    print(number)\"\"\"\n",
    "\n",
    "data[2].text.split()"
   ]
  },
  {
   "cell_type": "code",
   "execution_count": null,
   "metadata": {
    "collapsed": true
   },
   "outputs": [],
   "source": []
  }
 ],
 "metadata": {
  "kernelspec": {
   "display_name": "Python 3",
   "language": "python",
   "name": "python3"
  },
  "language_info": {
   "codemirror_mode": {
    "name": "ipython",
    "version": 3
   },
   "file_extension": ".py",
   "mimetype": "text/x-python",
   "name": "python",
   "nbconvert_exporter": "python",
   "pygments_lexer": "ipython3",
   "version": "3.6.3"
  }
 },
 "nbformat": 4,
 "nbformat_minor": 2
}
