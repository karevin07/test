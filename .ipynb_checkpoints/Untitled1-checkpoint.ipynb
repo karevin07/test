{
 "cells": [
  {
   "cell_type": "code",
   "execution_count": 1,
   "metadata": {
    "collapsed": true
   },
   "outputs": [],
   "source": [
    "import requests\n",
    "from bs4 import BeautifulSoup\n",
    "import json\n",
    "import pandas as pd"
   ]
  },
  {
   "cell_type": "code",
   "execution_count": 35,
   "metadata": {
    "collapsed": true
   },
   "outputs": [],
   "source": [
    "url = \"https://movies.yahoo.com.tw/chart.html?cate={}\"\n"
   ]
  },
  {
   "cell_type": "code",
   "execution_count": 41,
   "metadata": {},
   "outputs": [],
   "source": [
    "theurl = url.format('week')"
   ]
  },
  {
   "cell_type": "code",
   "execution_count": 42,
   "metadata": {},
   "outputs": [],
   "source": [
    "resp = requests.get(theurl)\n",
    "\n",
    "soup = BeautifulSoup(resp.text, 'lxml')"
   ]
  },
  {
   "cell_type": "code",
   "execution_count": 43,
   "metadata": {},
   "outputs": [
    {
     "data": {
      "text/plain": [
       "[<div class=\"rank_txt\">決勝女王</div>,\n",
       " <div class=\"rank_txt\">移動迷宮：死亡解藥</div>,\n",
       " <div class=\"rank_txt\">移動迷宮：死亡解藥</div>,\n",
       " <div class=\"rank_txt\">與神同行</div>,\n",
       " <div class=\"rank_txt\">與神同行</div>,\n",
       " <div class=\"rank_txt\">野蠻遊戲：瘋狂叢林</div>,\n",
       " <div class=\"rank_txt\">與神同行</div>,\n",
       " <div class=\"rank_txt\">STAR WARS：最後的絕地武士</div>,\n",
       " <div class=\"rank_txt\">東方快車謀殺案</div>,\n",
       " <div class=\"rank_txt\">血觀音</div>,\n",
       " <div class=\"rank_txt\">正義聯盟</div>,\n",
       " <div class=\"rank_txt\">正義聯盟</div>,\n",
       " <div class=\"rank_txt\">雷神索爾3：諸神黃昏</div>,\n",
       " <div class=\"rank_txt\">雷神索爾3：諸神黃昏</div>,\n",
       " <div class=\"rank_txt\">雷神索爾3：諸神黃昏</div>,\n",
       " <div class=\"rank_txt\">氣象戰</div>,\n",
       " <div class=\"rank_txt\">氣象戰</div>,\n",
       " <div class=\"rank_txt\">銀翼殺手2049</div>,\n",
       " <div class=\"rank_txt\">金牌特務：機密對決</div>,\n",
       " <div class=\"rank_txt\">金牌特務：機密對決</div>,\n",
       " <div class=\"rank_txt\">牠</div>,\n",
       " <div class=\"rank_txt\">牠</div>,\n",
       " <div class=\"rank_txt\">紅衣小女孩2</div>,\n",
       " <div class=\"rank_txt\">美國製造</div>,\n",
       " <div class=\"rank_txt\">殺手保鑣</div>,\n",
       " <div class=\"rank_txt\">安娜貝爾：造孽</div>,\n",
       " <div class=\"rank_txt\">模犯生</div>,\n",
       " <div class=\"rank_txt\">敦克爾克大行動</div>,\n",
       " <div class=\"rank_txt\">敦克爾克大行動</div>,\n",
       " <div class=\"rank_txt\">猩球崛起：終極決戰</div>,\n",
       " <div class=\"rank_txt\">蜘蛛人：返校日</div>,\n",
       " <div class=\"rank_txt\">神偷奶爸3</div>,\n",
       " <div class=\"rank_txt\">神鬼傳奇</div>,\n",
       " <div class=\"rank_txt\">神鬼傳奇</div>,\n",
       " <div class=\"rank_txt\">神力女超人</div>,\n",
       " <div class=\"rank_txt\">加勒比海盜 神鬼奇航：死無對證</div>,\n",
       " <div class=\"rank_txt\">異形：聖約</div>,\n",
       " <div class=\"rank_txt\">異形：聖約</div>,\n",
       " <div class=\"rank_txt\">星際異攻隊2</div>,\n",
       " <div class=\"rank_txt\">星際異攻隊2</div>,\n",
       " <div class=\"rank_txt\">玩命關頭8</div>,\n",
       " <div class=\"rank_txt\">玩命關頭8</div>,\n",
       " <div class=\"rank_txt\">我和我的冠軍女兒</div>,\n",
       " <div class=\"rank_txt\">攻殼機動隊</div>,\n",
       " <div class=\"rank_txt\">美女與野獸</div>,\n",
       " <div class=\"rank_txt\">美女與野獸</div>,\n",
       " <div class=\"rank_txt\">金剛：骷髏島</div>,\n",
       " <div class=\"rank_txt\">羅根</div>,\n",
       " <div class=\"rank_txt\">為了與你相遇</div>,\n",
       " <div class=\"rank_txt\">分裂</div>]"
      ]
     },
     "execution_count": 43,
     "metadata": {},
     "output_type": "execute_result"
    }
   ],
   "source": [
    "soup.select('.rank_txt')"
   ]
  },
  {
   "cell_type": "code",
   "execution_count": 44,
   "metadata": {},
   "outputs": [
    {
     "data": {
      "text/plain": [
       "[<h6 class=\"count\" data-num=\"4.5\" data-run=\"0\">4.5</h6>,\n",
       " <h6 class=\"count\" data-num=\"4\" data-run=\"0\">4</h6>,\n",
       " <h6 class=\"count\" data-num=\"4\" data-run=\"0\">4</h6>,\n",
       " <h6 class=\"count\" data-num=\"4.5\" data-run=\"0\">4.5</h6>,\n",
       " <h6 class=\"count\" data-num=\"4.5\" data-run=\"0\">4.5</h6>,\n",
       " <h6 class=\"count\" data-num=\"4.2\" data-run=\"0\">4.2</h6>,\n",
       " <h6 class=\"count\" data-num=\"4.5\" data-run=\"0\">4.5</h6>,\n",
       " <h6 class=\"count\" data-num=\"4\" data-run=\"0\">4</h6>,\n",
       " <h6 class=\"count\" data-num=\"4\" data-run=\"0\">4</h6>,\n",
       " <h6 class=\"count\" data-num=\"4.6\" data-run=\"0\">4.6</h6>,\n",
       " <h6 class=\"count\" data-num=\"4.3\" data-run=\"0\">4.3</h6>,\n",
       " <h6 class=\"count\" data-num=\"4.3\" data-run=\"0\">4.3</h6>,\n",
       " <h6 class=\"count\" data-num=\"4.3\" data-run=\"0\">4.3</h6>,\n",
       " <h6 class=\"count\" data-num=\"4.3\" data-run=\"0\">4.3</h6>,\n",
       " <h6 class=\"count\" data-num=\"4.3\" data-run=\"0\">4.3</h6>,\n",
       " <h6 class=\"count\" data-num=\"4.5\" data-run=\"0\">4.5</h6>,\n",
       " <h6 class=\"count\" data-num=\"4.5\" data-run=\"0\">4.5</h6>,\n",
       " <h6 class=\"count\" data-num=\"3.6\" data-run=\"0\">3.6</h6>,\n",
       " <h6 class=\"count\" data-num=\"4.5\" data-run=\"0\">4.5</h6>,\n",
       " <h6 class=\"count\" data-num=\"4.5\" data-run=\"0\">4.5</h6>,\n",
       " <h6 class=\"count\" data-num=\"4.1\" data-run=\"0\">4.1</h6>,\n",
       " <h6 class=\"count\" data-num=\"4.1\" data-run=\"0\">4.1</h6>,\n",
       " <h6 class=\"count\" data-num=\"4.5\" data-run=\"0\">4.5</h6>,\n",
       " <h6 class=\"count\" data-num=\"3.5\" data-run=\"0\">3.5</h6>,\n",
       " <h6 class=\"count\" data-num=\"4.5\" data-run=\"0\">4.5</h6>,\n",
       " <h6 class=\"count\" data-num=\"4.3\" data-run=\"0\">4.3</h6>,\n",
       " <h6 class=\"count\" data-num=\"4.4\" data-run=\"0\">4.4</h6>,\n",
       " <h6 class=\"count\" data-num=\"4\" data-run=\"0\">4</h6>,\n",
       " <h6 class=\"count\" data-num=\"4\" data-run=\"0\">4</h6>,\n",
       " <h6 class=\"count\" data-num=\"4\" data-run=\"0\">4</h6>,\n",
       " <h6 class=\"count\" data-num=\"4.1\" data-run=\"0\">4.1</h6>,\n",
       " <h6 class=\"count\" data-num=\"4.2\" data-run=\"0\">4.2</h6>,\n",
       " <h6 class=\"count\" data-num=\"3.9\" data-run=\"0\">3.9</h6>,\n",
       " <h6 class=\"count\" data-num=\"3.9\" data-run=\"0\">3.9</h6>,\n",
       " <h6 class=\"count\" data-num=\"4.7\" data-run=\"0\">4.7</h6>,\n",
       " <h6 class=\"count\" data-num=\"4.4\" data-run=\"0\">4.4</h6>,\n",
       " <h6 class=\"count\" data-num=\"4.1\" data-run=\"0\">4.1</h6>,\n",
       " <h6 class=\"count\" data-num=\"4.1\" data-run=\"0\">4.1</h6>,\n",
       " <h6 class=\"count\" data-num=\"4.5\" data-run=\"0\">4.5</h6>,\n",
       " <h6 class=\"count\" data-num=\"4.5\" data-run=\"0\">4.5</h6>,\n",
       " <h6 class=\"count\" data-num=\"4.5\" data-run=\"0\">4.5</h6>,\n",
       " <h6 class=\"count\" data-num=\"4.5\" data-run=\"0\">4.5</h6>,\n",
       " <h6 class=\"count\" data-num=\"4.9\" data-run=\"0\">4.9</h6>,\n",
       " <h6 class=\"count\" data-num=\"3.8\" data-run=\"0\">3.8</h6>,\n",
       " <h6 class=\"count\" data-num=\"4.6\" data-run=\"0\">4.6</h6>,\n",
       " <h6 class=\"count\" data-num=\"4.6\" data-run=\"0\">4.6</h6>,\n",
       " <h6 class=\"count\" data-num=\"4.2\" data-run=\"0\">4.2</h6>,\n",
       " <h6 class=\"count\" data-num=\"4.6\" data-run=\"0\">4.6</h6>,\n",
       " <h6 class=\"count\" data-num=\"4.5\" data-run=\"0\">4.5</h6>,\n",
       " <h6 class=\"count\" data-num=\"4.2\" data-run=\"0\">4.2</h6>]"
      ]
     },
     "execution_count": 44,
     "metadata": {},
     "output_type": "execute_result"
    }
   ],
   "source": [
    "soup.select('.count')"
   ]
  },
  {
   "cell_type": "code",
   "execution_count": 17,
   "metadata": {
    "collapsed": true
   },
   "outputs": [],
   "source": [
    "movie_rank = {}\n",
    "a = soup.select('h1')[0].text.strip()\n",
    "b = movie.select('.count')[0].text\n",
    "movie_rank[a] = b"
   ]
  },
  {
   "cell_type": "code",
   "execution_count": 18,
   "metadata": {},
   "outputs": [],
   "source": [
    "for movie in soup.select('.rankstyle1'):\n",
    "    rank = movie.select('.rank_txt')\n",
    "    for i in range(len(rank)):\n",
    "        movie_rank[rank[i].text]= movie.select('.count')[i+1].text"
   ]
  },
  {
   "cell_type": "code",
   "execution_count": 11,
   "metadata": {
    "collapsed": true
   },
   "outputs": [],
   "source": [
    "db = pd.DataFrame([i for i in movie_rank.items()],columns = ['片名','評分'])"
   ]
  },
  {
   "cell_type": "code",
   "execution_count": 12,
   "metadata": {},
   "outputs": [
    {
     "data": {
      "text/html": [
       "<div>\n",
       "<style>\n",
       "    .dataframe thead tr:only-child th {\n",
       "        text-align: right;\n",
       "    }\n",
       "\n",
       "    .dataframe thead th {\n",
       "        text-align: left;\n",
       "    }\n",
       "\n",
       "    .dataframe tbody tr th {\n",
       "        vertical-align: top;\n",
       "    }\n",
       "</style>\n",
       "<table border=\"1\" class=\"dataframe\">\n",
       "  <thead>\n",
       "    <tr style=\"text-align: right;\">\n",
       "      <th></th>\n",
       "      <th>片名</th>\n",
       "      <th>評分</th>\n",
       "    </tr>\n",
       "  </thead>\n",
       "  <tbody>\n",
       "    <tr>\n",
       "      <th>0</th>\n",
       "      <td>決勝女王</td>\n",
       "      <td>4.5</td>\n",
       "    </tr>\n",
       "    <tr>\n",
       "      <th>1</th>\n",
       "      <td>移動迷宮：死亡解藥</td>\n",
       "      <td>4</td>\n",
       "    </tr>\n",
       "    <tr>\n",
       "      <th>2</th>\n",
       "      <td>與神同行</td>\n",
       "      <td>4.5</td>\n",
       "    </tr>\n",
       "    <tr>\n",
       "      <th>3</th>\n",
       "      <td>溫徹斯特鬼屋</td>\n",
       "      <td>4.6</td>\n",
       "    </tr>\n",
       "    <tr>\n",
       "      <th>4</th>\n",
       "      <td>金錢世界</td>\n",
       "      <td>4</td>\n",
       "    </tr>\n",
       "    <tr>\n",
       "      <th>5</th>\n",
       "      <td>縮小人生</td>\n",
       "      <td>2.4</td>\n",
       "    </tr>\n",
       "    <tr>\n",
       "      <th>6</th>\n",
       "      <td>水底情深</td>\n",
       "      <td>0</td>\n",
       "    </tr>\n",
       "    <tr>\n",
       "      <th>7</th>\n",
       "      <td>12猛漢</td>\n",
       "      <td>4.3</td>\n",
       "    </tr>\n",
       "    <tr>\n",
       "      <th>8</th>\n",
       "      <td>大娛樂家</td>\n",
       "      <td>4.7</td>\n",
       "    </tr>\n",
       "    <tr>\n",
       "      <th>9</th>\n",
       "      <td>電影版 巧虎的彩虹綠洲</td>\n",
       "      <td>2.8</td>\n",
       "    </tr>\n",
       "    <tr>\n",
       "      <th>10</th>\n",
       "      <td>疾速救援</td>\n",
       "      <td>4.4</td>\n",
       "    </tr>\n",
       "    <tr>\n",
       "      <th>11</th>\n",
       "      <td>FATE/STAY NIGHT [HEAVEN'S FEEL] I. 預示之花</td>\n",
       "      <td>4.1</td>\n",
       "    </tr>\n",
       "    <tr>\n",
       "      <th>12</th>\n",
       "      <td>霓裳魅影</td>\n",
       "      <td>4</td>\n",
       "    </tr>\n",
       "    <tr>\n",
       "      <th>13</th>\n",
       "      <td>野蠻遊戲：瘋狂叢林</td>\n",
       "      <td>4.2</td>\n",
       "    </tr>\n",
       "    <tr>\n",
       "      <th>14</th>\n",
       "      <td>最後的食譜：麒麟之舌</td>\n",
       "      <td>3.8</td>\n",
       "    </tr>\n",
       "    <tr>\n",
       "      <th>15</th>\n",
       "      <td>大災難家</td>\n",
       "      <td>4.2</td>\n",
       "    </tr>\n",
       "    <tr>\n",
       "      <th>16</th>\n",
       "      <td>以你的名字呼喚我</td>\n",
       "      <td>4.5</td>\n",
       "    </tr>\n",
       "    <tr>\n",
       "      <th>17</th>\n",
       "      <td>老娘叫譚雅</td>\n",
       "      <td>4</td>\n",
       "    </tr>\n",
       "    <tr>\n",
       "      <th>18</th>\n",
       "      <td>可可夜總會</td>\n",
       "      <td>4.7</td>\n",
       "    </tr>\n",
       "    <tr>\n",
       "      <th>19</th>\n",
       "      <td>魍美</td>\n",
       "      <td>4</td>\n",
       "    </tr>\n",
       "  </tbody>\n",
       "</table>\n",
       "</div>"
      ],
      "text/plain": [
       "                                         片名   評分\n",
       "0                                      決勝女王  4.5\n",
       "1                                 移動迷宮：死亡解藥    4\n",
       "2                                      與神同行  4.5\n",
       "3                                    溫徹斯特鬼屋  4.6\n",
       "4                                      金錢世界    4\n",
       "5                                      縮小人生  2.4\n",
       "6                                      水底情深    0\n",
       "7                                      12猛漢  4.3\n",
       "8                                      大娛樂家  4.7\n",
       "9                               電影版 巧虎的彩虹綠洲  2.8\n",
       "10                                     疾速救援  4.4\n",
       "11  FATE/STAY NIGHT [HEAVEN'S FEEL] I. 預示之花  4.1\n",
       "12                                     霓裳魅影    4\n",
       "13                                野蠻遊戲：瘋狂叢林  4.2\n",
       "14                               最後的食譜：麒麟之舌  3.8\n",
       "15                                     大災難家  4.2\n",
       "16                                 以你的名字呼喚我  4.5\n",
       "17                                    老娘叫譚雅    4\n",
       "18                                    可可夜總會  4.7\n",
       "19                                       魍美    4"
      ]
     },
     "execution_count": 12,
     "metadata": {},
     "output_type": "execute_result"
    }
   ],
   "source": [
    "db"
   ]
  },
  {
   "cell_type": "code",
   "execution_count": 13,
   "metadata": {},
   "outputs": [
    {
     "data": {
      "text/plain": [
       "0                                        決勝女王\n",
       "1                                   移動迷宮：死亡解藥\n",
       "2                                        與神同行\n",
       "3                                      溫徹斯特鬼屋\n",
       "4                                        金錢世界\n",
       "5                                        縮小人生\n",
       "6                                        水底情深\n",
       "7                                        12猛漢\n",
       "8                                        大娛樂家\n",
       "9                                 電影版 巧虎的彩虹綠洲\n",
       "10                                       疾速救援\n",
       "11    FATE/STAY NIGHT [HEAVEN'S FEEL] I. 預示之花\n",
       "12                                       霓裳魅影\n",
       "13                                  野蠻遊戲：瘋狂叢林\n",
       "14                                 最後的食譜：麒麟之舌\n",
       "15                                       大災難家\n",
       "16                                   以你的名字呼喚我\n",
       "17                                      老娘叫譚雅\n",
       "18                                      可可夜總會\n",
       "19                                         魍美\n",
       "Name: 片名, dtype: object"
      ]
     },
     "execution_count": 13,
     "metadata": {},
     "output_type": "execute_result"
    }
   ],
   "source": [
    "db['片名']"
   ]
  },
  {
   "cell_type": "code",
   "execution_count": null,
   "metadata": {
    "collapsed": true
   },
   "outputs": [],
   "source": []
  }
 ],
 "metadata": {
  "kernelspec": {
   "display_name": "Python 3",
   "language": "python",
   "name": "python3"
  },
  "language_info": {
   "codemirror_mode": {
    "name": "ipython",
    "version": 3
   },
   "file_extension": ".py",
   "mimetype": "text/x-python",
   "name": "python",
   "nbconvert_exporter": "python",
   "pygments_lexer": "ipython3",
   "version": "3.6.3"
  }
 },
 "nbformat": 4,
 "nbformat_minor": 2
}
